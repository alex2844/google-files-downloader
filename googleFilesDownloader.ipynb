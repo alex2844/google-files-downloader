{
  "nbformat": 4,
  "nbformat_minor": 0,
  "metadata": {
    "colab": {
      "name": "googleFilesDownloader",
      "provenance": [],
      "collapsed_sections": [],
      "mount_file_id": "1Sw9-H59k8EXqrfMou56uO6igU-93RN-4",
      "authorship_tag": "ABX9TyO889KF1UKS13uF4m15oGzA",
      "include_colab_link": true
    },
    "kernelspec": {
      "name": "python3",
      "display_name": "Python 3"
    }
  },
  "cells": [
    {
      "cell_type": "markdown",
      "metadata": {
        "id": "view-in-github",
        "colab_type": "text"
      },
      "source": [
        "<a href=\"https://colab.research.google.com/github/alex2844/google-files-downloader/blob/master/googleFilesDownloader.ipynb\" target=\"_parent\"><img src=\"https://colab.research.google.com/assets/colab-badge.svg\" alt=\"Open In Colab\"/></a>"
      ]
    },
    {
      "cell_type": "code",
      "metadata": {
        "id": "0q0zIMlSFsTB",
        "colab_type": "code",
        "colab": {}
      },
      "source": [
        "from google.colab import drive\n",
        "drive.mount('/content/drive')"
      ],
      "execution_count": 0,
      "outputs": []
    },
    {
      "cell_type": "code",
      "metadata": {
        "id": "C4KSNq5isoq-",
        "colab_type": "code",
        "colab": {}
      },
      "source": [
        "!bash <(curl -s 'https://raw.githubusercontent.com/alex2844/google-files-downloader/master/googleFilesDownloader.sh');"
      ],
      "execution_count": 0,
      "outputs": []
    }
  ]
}